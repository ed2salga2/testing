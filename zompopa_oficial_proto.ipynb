{
  "cells": [
    {
      "cell_type": "markdown",
      "metadata": {
        "id": "view-in-github",
        "colab_type": "text"
      },
      "source": [
        "<a href=\"https://colab.research.google.com/github/ed2salga2/testing/blob/main/zompopa_oficial_proto.ipynb\" target=\"_parent\"><img src=\"https://colab.research.google.com/assets/colab-badge.svg\" alt=\"Open In Colab\"/></a>"
      ]
    },
    {
      "cell_type": "code",
      "execution_count": null,
      "metadata": {
        "colab": {
          "base_uri": "https://localhost:8080/"
        },
        "id": "8rWAV5axOhKL",
        "outputId": "2d545d32-ec5a-4d25-f298-9db36836684c"
      },
      "outputs": [
        {
          "name": "stdout",
          "output_type": "stream",
          "text": [
            "Mounted at /content/gdrive\n",
            "/bin/bash: /opt/conda/bin/python3.7: No such file or directory\n",
            "\u001b[2K     \u001b[90m━━━━━━━━━━━━━━━━━━━━━━━━━━━━━━━━━━━━━━\u001b[0m \u001b[32m761.3/761.3 KB\u001b[0m \u001b[31m10.2 MB/s\u001b[0m eta \u001b[36m0:00:00\u001b[0m\n",
            "\u001b[?25h  Preparing metadata (setup.py) ... \u001b[?25l\u001b[?25hdone\n",
            "  Building wheel for pyngrok (setup.py) ... \u001b[?25l\u001b[?25hdone\n",
            "\u001b[2K     \u001b[90m━━━━━━━━━━━━━━━━━━━━━━━━━━━━━━━━━━━━━━━━\u001b[0m \u001b[32m9.6/9.6 MB\u001b[0m \u001b[31m47.1 MB/s\u001b[0m eta \u001b[36m0:00:00\u001b[0m\n",
            "\u001b[2K     \u001b[90m━━━━━━━━━━━━━━━━━━━━━━━━━━━━━━━━━━━━━━━━\u001b[0m \u001b[32m80.6/80.6 KB\u001b[0m \u001b[31m8.2 MB/s\u001b[0m eta \u001b[36m0:00:00\u001b[0m\n",
            "\u001b[2K     \u001b[90m━━━━━━━━━━━━━━━━━━━━━━━━━━━━━━━━━━━━━━\u001b[0m \u001b[32m239.0/239.0 KB\u001b[0m \u001b[31m17.8 MB/s\u001b[0m eta \u001b[36m0:00:00\u001b[0m\n",
            "\u001b[2K     \u001b[90m━━━━━━━━━━━━━━━━━━━━━━━━━━━━━━━━━━━━━━━━\u001b[0m \u001b[32m4.7/4.7 MB\u001b[0m \u001b[31m66.3 MB/s\u001b[0m eta \u001b[36m0:00:00\u001b[0m\n",
            "\u001b[?25h  Preparing metadata (setup.py) ... \u001b[?25l\u001b[?25hdone\n",
            "\u001b[2K     \u001b[90m━━━━━━━━━━━━━━━━━━━━━━━━━━━━━━━━━━━━━━\u001b[0m \u001b[32m184.3/184.3 KB\u001b[0m \u001b[31m19.8 MB/s\u001b[0m eta \u001b[36m0:00:00\u001b[0m\n",
            "\u001b[2K     \u001b[90m━━━━━━━━━━━━━━━━━━━━━━━━━━━━━━━━━━━━━━\u001b[0m \u001b[32m164.8/164.8 KB\u001b[0m \u001b[31m18.1 MB/s\u001b[0m eta \u001b[36m0:00:00\u001b[0m\n",
            "\u001b[2K     \u001b[90m━━━━━━━━━━━━━━━━━━━━━━━━━━━━━━━━━━━━━━━━\u001b[0m \u001b[32m62.7/62.7 KB\u001b[0m \u001b[31m6.6 MB/s\u001b[0m eta \u001b[36m0:00:00\u001b[0m\n",
            "\u001b[2K     \u001b[90m━━━━━━━━━━━━━━━━━━━━━━━━━━━━━━━━━━━━━━━━\u001b[0m \u001b[32m84.5/84.5 KB\u001b[0m \u001b[31m8.6 MB/s\u001b[0m eta \u001b[36m0:00:00\u001b[0m\n",
            "\u001b[2K     \u001b[90m━━━━━━━━━━━━━━━━━━━━━━━━━━━━━━━━━━━━━━━━\u001b[0m \u001b[32m1.1/1.1 MB\u001b[0m \u001b[31m55.9 MB/s\u001b[0m eta \u001b[36m0:00:00\u001b[0m\n",
            "\u001b[?25h  Building wheel for validators (setup.py) ... \u001b[?25l\u001b[?25hdone\n",
            "\u001b[31mERROR: pip's dependency resolver does not currently take into account all the packages that are installed. This behaviour is the source of the following dependency conflicts.\n",
            "ipython 7.9.0 requires jedi>=0.10, which is not installed.\u001b[0m\u001b[31m\n",
            "\u001b[0m"
          ]
        }
      ],
      "source": [
        "from google.colab import drive\n",
        "\n",
        "drive.mount('/content/gdrive')\n"
      ]
    },
    {
      "cell_type": "markdown",
      "metadata": {
        "id": "baBxcKawRRXx"
      },
      "source": [
        "##CURRENT DEBUG:"
      ]
    },
    {
      "cell_type": "code",
      "execution_count": 6,
      "metadata": {
        "colab": {
          "base_uri": "https://localhost:8080/"
        },
        "id": "MBEkRGFPOuNr",
        "outputId": "a4ddb209-72b0-45df-84a4-6433efdae152"
      },
      "outputs": [
        {
          "output_type": "stream",
          "name": "stdout",
          "text": [
            "/bin/bash: /opt/conda/bin/python3.7: No such file or directory\n",
            "\u001b[31mERROR: Could not find a version that satisfies the requirement tempfile (from versions: none)\u001b[0m\u001b[31m\n",
            "\u001b[0m\u001b[31mERROR: No matching distribution found for tempfile\u001b[0m\u001b[31m\n",
            "\u001b[0m"
          ]
        }
      ],
      "source": [
        "!/opt/conda/bin/python3.7 - m pip install --upgrade pip\n",
        "!pip -q install pyngrok\n",
        "!pip -q install streamlit\n",
        "!pip -q install altair\n",
        "!pip install -q tempfile\n",
        "!pip -q install pyreadstat"
      ]
    },
    {
      "cell_type": "code",
      "execution_count": 29,
      "metadata": {
        "colab": {
          "base_uri": "https://localhost:8080/"
        },
        "id": "45te7RmqEb00",
        "outputId": "146c6002-d63c-40ed-a47d-7d85c2b29197"
      },
      "outputs": [
        {
          "output_type": "stream",
          "name": "stdout",
          "text": [
            "Looking in indexes: https://pypi.org/simple, https://us-python.pkg.dev/colab-wheels/public/simple/\n",
            "Collecting kaleido\n",
            "  Downloading kaleido-0.2.1-py2.py3-none-manylinux1_x86_64.whl (79.9 MB)\n",
            "\u001b[2K     \u001b[90m━━━━━━━━━━━━━━━━━━━━━━━━━━━━━━━━━━━━━━━━\u001b[0m \u001b[32m79.9/79.9 MB\u001b[0m \u001b[31m12.7 MB/s\u001b[0m eta \u001b[36m0:00:00\u001b[0m\n",
            "\u001b[?25hInstalling collected packages: kaleido\n",
            "Successfully installed kaleido-0.2.1\n"
          ]
        }
      ],
      "source": [
        "pip install -U kaleido"
      ]
    },
    {
      "cell_type": "code",
      "execution_count": null,
      "metadata": {
        "id": "gJFZj5uL6Bg-"
      },
      "outputs": [],
      "source": [
        "sav_file = '/content/gdrive/MyDrive/BaseOP.sav'"
      ]
    },
    {
      "cell_type": "code",
      "execution_count": null,
      "metadata": {
        "id": "I8dHl5mbO7BY"
      },
      "outputs": [],
      "source": [
        "df = pd.read_spss(sav_file)"
      ]
    },
    {
      "cell_type": "code",
      "execution_count": 8,
      "metadata": {
        "id": "QaGuMo1C8DnE"
      },
      "outputs": [],
      "source": [
        "import pandas as pd\n",
        "import streamlit as st\n",
        "import altair as alt\n",
        "import json\n",
        "import os\n",
        "from pyngrok import ngrok\n",
        "import tempfile\n",
        "import re\n"
      ]
    },
    {
      "cell_type": "code",
      "execution_count": null,
      "metadata": {
        "colab": {
          "base_uri": "https://localhost:8080/"
        },
        "id": "k8K382Y94p2d",
        "outputId": "f1c63fe3-fcc1-4775-a9f4-9caea32d0dda"
      },
      "outputs": [
        {
          "name": "stdout",
          "output_type": "stream",
          "text": [
            "app.py\tgdrive\tsample_data\n"
          ]
        }
      ],
      "source": [
        "!ls"
      ]
    },
    {
      "cell_type": "code",
      "execution_count": 9,
      "metadata": {
        "colab": {
          "base_uri": "https://localhost:8080/"
        },
        "id": "YYRS0X_a4s60",
        "outputId": "23f615a5-a25e-4166-8e1b-3aca92d655ff"
      },
      "outputs": [
        {
          "output_type": "stream",
          "name": "stdout",
          "text": [
            "Authtoken saved to configuration file: /root/.ngrok2/ngrok.yml\n"
          ]
        }
      ],
      "source": [
        "!ngrok authtoken \"2MFGADJe4BKP66G4CqiVgklB5K2_2kTLuioCfqpDbCadW7yDo\""
      ]
    },
    {
      "cell_type": "code",
      "execution_count": null,
      "metadata": {
        "colab": {
          "base_uri": "https://localhost:8080/"
        },
        "id": "23HlNWbx8N0B",
        "outputId": "0f937033-c3bb-40ee-9773-e3799d3d63ed"
      },
      "outputs": [
        {
          "output_type": "stream",
          "name": "stderr",
          "text": [
            "INFO:pyngrok.ngrok:Opening tunnel named: http-80-100a2e05-4d07-4ef1-b400-0ff1174e4e95\n",
            "2023-03-16 01:51:09.656 INFO    pyngrok.ngrok: Opening tunnel named: http-80-100a2e05-4d07-4ef1-b400-0ff1174e4e95\n",
            "INFO:pyngrok.process.ngrok:t=2023-03-16T01:51:09+0000 lvl=info msg=\"no configuration paths supplied\"\n",
            "2023-03-16 01:51:09.695 INFO    pyngrok.process.ngrok: t=2023-03-16T01:51:09+0000 lvl=info msg=\"no configuration paths supplied\"\n",
            "INFO:pyngrok.process.ngrok:t=2023-03-16T01:51:09+0000 lvl=info msg=\"using configuration at default config path\" path=/root/.ngrok2/ngrok.yml\n",
            "2023-03-16 01:51:09.706 INFO    pyngrok.process.ngrok: t=2023-03-16T01:51:09+0000 lvl=info msg=\"using configuration at default config path\" path=/root/.ngrok2/ngrok.yml\n",
            "INFO:pyngrok.process.ngrok:t=2023-03-16T01:51:09+0000 lvl=info msg=\"open config file\" path=/root/.ngrok2/ngrok.yml err=nil\n",
            "2023-03-16 01:51:09.709 INFO    pyngrok.process.ngrok: t=2023-03-16T01:51:09+0000 lvl=info msg=\"open config file\" path=/root/.ngrok2/ngrok.yml err=nil\n",
            "INFO:pyngrok.process.ngrok:t=2023-03-16T01:51:09+0000 lvl=info msg=\"starting web service\" obj=web addr=127.0.0.1:4040\n",
            "2023-03-16 01:51:09.713 INFO    pyngrok.process.ngrok: t=2023-03-16T01:51:09+0000 lvl=info msg=\"starting web service\" obj=web addr=127.0.0.1:4040\n",
            "INFO:pyngrok.process.ngrok:t=2023-03-16T01:51:09+0000 lvl=info msg=\"tunnel session started\" obj=tunnels.session\n",
            "2023-03-16 01:51:09.850 INFO    pyngrok.process.ngrok: t=2023-03-16T01:51:09+0000 lvl=info msg=\"tunnel session started\" obj=tunnels.session\n",
            "INFO:pyngrok.process.ngrok:t=2023-03-16T01:51:09+0000 lvl=info msg=\"client session established\" obj=csess id=71b995a16b7e\n",
            "2023-03-16 01:51:09.862 INFO    pyngrok.process.ngrok: t=2023-03-16T01:51:09+0000 lvl=info msg=\"client session established\" obj=csess id=71b995a16b7e\n",
            "INFO:pyngrok.process.ngrok:t=2023-03-16T01:51:09+0000 lvl=info msg=start pg=/api/tunnels id=d7c6b8a91928fcd0\n",
            "2023-03-16 01:51:09.872 INFO    pyngrok.process.ngrok: t=2023-03-16T01:51:09+0000 lvl=info msg=start pg=/api/tunnels id=d7c6b8a91928fcd0\n",
            "INFO:pyngrok.process.ngrok:t=2023-03-16T01:51:09+0000 lvl=info msg=end pg=/api/tunnels id=d7c6b8a91928fcd0 status=200 dur=404.295µs\n",
            "2023-03-16 01:51:09.879 INFO    pyngrok.process.ngrok: t=2023-03-16T01:51:09+0000 lvl=info msg=end pg=/api/tunnels id=d7c6b8a91928fcd0 status=200 dur=404.295µs\n",
            "INFO:pyngrok.process.ngrok:t=2023-03-16T01:51:09+0000 lvl=info msg=start pg=/api/tunnels id=91c43c995c4884a7\n",
            "2023-03-16 01:51:09.886 INFO    pyngrok.process.ngrok: t=2023-03-16T01:51:09+0000 lvl=info msg=start pg=/api/tunnels id=91c43c995c4884a7\n",
            "INFO:pyngrok.process.ngrok:t=2023-03-16T01:51:09+0000 lvl=info msg=end pg=/api/tunnels id=91c43c995c4884a7 status=200 dur=120.426µs\n",
            "2023-03-16 01:51:09.892 INFO    pyngrok.process.ngrok: t=2023-03-16T01:51:09+0000 lvl=info msg=end pg=/api/tunnels id=91c43c995c4884a7 status=200 dur=120.426µs\n",
            "INFO:pyngrok.process.ngrok:t=2023-03-16T01:51:09+0000 lvl=info msg=start pg=/api/tunnels id=47021531501a15b4\n",
            "2023-03-16 01:51:09.898 INFO    pyngrok.process.ngrok: t=2023-03-16T01:51:09+0000 lvl=info msg=start pg=/api/tunnels id=47021531501a15b4\n",
            "INFO:pyngrok.process.ngrok:t=2023-03-16T01:51:09+0000 lvl=info msg=\"started tunnel\" obj=tunnels name=\"http-80-100a2e05-4d07-4ef1-b400-0ff1174e4e95 (http)\" addr=http://localhost:80 url=http://14a5-35-230-181-209.ngrok.io\n",
            "2023-03-16 01:51:09.940 INFO    pyngrok.process.ngrok: t=2023-03-16T01:51:09+0000 lvl=info msg=\"started tunnel\" obj=tunnels name=\"http-80-100a2e05-4d07-4ef1-b400-0ff1174e4e95 (http)\" addr=http://localhost:80 url=http://14a5-35-230-181-209.ngrok.io\n",
            "INFO:pyngrok.process.ngrok:t=2023-03-16T01:51:09+0000 lvl=info msg=\"started tunnel\" obj=tunnels name=http-80-100a2e05-4d07-4ef1-b400-0ff1174e4e95 addr=http://localhost:80 url=https://14a5-35-230-181-209.ngrok.io\n",
            "2023-03-16 01:51:09.944 INFO    pyngrok.process.ngrok: t=2023-03-16T01:51:09+0000 lvl=info msg=\"started tunnel\" obj=tunnels name=http-80-100a2e05-4d07-4ef1-b400-0ff1174e4e95 addr=http://localhost:80 url=https://14a5-35-230-181-209.ngrok.io\n",
            "INFO:pyngrok.process.ngrok:t=2023-03-16T01:51:09+0000 lvl=info msg=end pg=/api/tunnels id=47021531501a15b4 status=201 dur=65.0947ms\n",
            "2023-03-16 01:51:09.947 INFO    pyngrok.process.ngrok: t=2023-03-16T01:51:09+0000 lvl=info msg=end pg=/api/tunnels id=47021531501a15b4 status=201 dur=65.0947ms\n",
            "INFO:pyngrok.process.ngrok:t=2023-03-16T01:51:09+0000 lvl=info msg=start pg=\"/api/tunnels/http-80-100a2e05-4d07-4ef1-b400-0ff1174e4e95 (http)\" id=5cff006f1f9a2f6a\n",
            "2023-03-16 01:51:09.963 INFO    pyngrok.process.ngrok: t=2023-03-16T01:51:09+0000 lvl=info msg=start pg=\"/api/tunnels/http-80-100a2e05-4d07-4ef1-b400-0ff1174e4e95 (http)\" id=5cff006f1f9a2f6a\n",
            "INFO:pyngrok.process.ngrok:t=2023-03-16T01:51:09+0000 lvl=info msg=end pg=\"/api/tunnels/http-80-100a2e05-4d07-4ef1-b400-0ff1174e4e95 (http)\" id=5cff006f1f9a2f6a status=200 dur=185.084µs\n",
            "2023-03-16 01:51:09.971 INFO    pyngrok.process.ngrok: t=2023-03-16T01:51:09+0000 lvl=info msg=end pg=\"/api/tunnels/http-80-100a2e05-4d07-4ef1-b400-0ff1174e4e95 (http)\" id=5cff006f1f9a2f6a status=200 dur=185.084µs\n"
          ]
        },
        {
          "output_type": "stream",
          "name": "stdout",
          "text": [
            "NgrokTunnel: \"http://14a5-35-230-181-209.ngrok.io\" -> \"http://localhost:80\"\n"
          ]
        },
        {
          "output_type": "stream",
          "name": "stderr",
          "text": [
            "INFO:pyngrok.process.ngrok:t=2023-03-16T01:51:16+0000 lvl=info msg=\"join connections\" obj=join id=07d226740146 l=127.0.0.1:80 r=201.193.165.53:55796\n",
            "2023-03-16 01:51:16.117 INFO    pyngrok.process.ngrok: t=2023-03-16T01:51:16+0000 lvl=info msg=\"join connections\" obj=join id=07d226740146 l=127.0.0.1:80 r=201.193.165.53:55796\n",
            "INFO:pyngrok.process.ngrok:t=2023-03-16T01:51:16+0000 lvl=info msg=\"join connections\" obj=join id=ed38bf89702b l=127.0.0.1:80 r=201.193.165.53:55824\n",
            "2023-03-16 01:51:16.397 INFO    pyngrok.process.ngrok: t=2023-03-16T01:51:16+0000 lvl=info msg=\"join connections\" obj=join id=ed38bf89702b l=127.0.0.1:80 r=201.193.165.53:55824\n",
            "INFO:pyngrok.process.ngrok:t=2023-03-16T01:51:16+0000 lvl=info msg=\"join connections\" obj=join id=db39dd0b100a l=127.0.0.1:80 r=201.193.165.53:55826\n",
            "2023-03-16 01:51:16.416 INFO    pyngrok.process.ngrok: t=2023-03-16T01:51:16+0000 lvl=info msg=\"join connections\" obj=join id=db39dd0b100a l=127.0.0.1:80 r=201.193.165.53:55826\n",
            "INFO:pyngrok.process.ngrok:t=2023-03-16T01:51:16+0000 lvl=info msg=\"join connections\" obj=join id=0b83416ea99f l=127.0.0.1:80 r=201.193.165.53:55827\n",
            "2023-03-16 01:51:16.425 INFO    pyngrok.process.ngrok: t=2023-03-16T01:51:16+0000 lvl=info msg=\"join connections\" obj=join id=0b83416ea99f l=127.0.0.1:80 r=201.193.165.53:55827\n",
            "INFO:pyngrok.process.ngrok:t=2023-03-16T01:51:16+0000 lvl=info msg=\"join connections\" obj=join id=3cdff1424f2d l=127.0.0.1:80 r=201.193.165.53:55825\n",
            "2023-03-16 01:51:16.431 INFO    pyngrok.process.ngrok: t=2023-03-16T01:51:16+0000 lvl=info msg=\"join connections\" obj=join id=3cdff1424f2d l=127.0.0.1:80 r=201.193.165.53:55825\n",
            "INFO:pyngrok.process.ngrok:t=2023-03-16T01:51:16+0000 lvl=info msg=\"join connections\" obj=join id=5bc2a3ca965e l=127.0.0.1:80 r=201.193.165.53:55828\n",
            "2023-03-16 01:51:16.439 INFO    pyngrok.process.ngrok: t=2023-03-16T01:51:16+0000 lvl=info msg=\"join connections\" obj=join id=5bc2a3ca965e l=127.0.0.1:80 r=201.193.165.53:55828\n",
            "INFO:pyngrok.process.ngrok:t=2023-03-16T01:51:18+0000 lvl=info msg=\"join connections\" obj=join id=39f9d08299d8 l=127.0.0.1:80 r=201.193.165.53:55833\n",
            "2023-03-16 01:51:18.953 INFO    pyngrok.process.ngrok: t=2023-03-16T01:51:18+0000 lvl=info msg=\"join connections\" obj=join id=39f9d08299d8 l=127.0.0.1:80 r=201.193.165.53:55833\n",
            "INFO:pyngrok.process.ngrok:t=2023-03-16T01:51:18+0000 lvl=info msg=\"join connections\" obj=join id=4110c8c9533c l=127.0.0.1:80 r=201.193.165.53:55834\n",
            "2023-03-16 01:51:18.962 INFO    pyngrok.process.ngrok: t=2023-03-16T01:51:18+0000 lvl=info msg=\"join connections\" obj=join id=4110c8c9533c l=127.0.0.1:80 r=201.193.165.53:55834\n",
            "INFO:pyngrok.process.ngrok:t=2023-03-16T01:51:18+0000 lvl=info msg=\"join connections\" obj=join id=711bf38e8107 l=127.0.0.1:80 r=201.193.165.53:55835\n",
            "2023-03-16 01:51:18.988 INFO    pyngrok.process.ngrok: t=2023-03-16T01:51:18+0000 lvl=info msg=\"join connections\" obj=join id=711bf38e8107 l=127.0.0.1:80 r=201.193.165.53:55835\n",
            "INFO:pyngrok.process.ngrok:t=2023-03-16T01:51:19+0000 lvl=info msg=\"join connections\" obj=join id=d7b1dc1ac935 l=127.0.0.1:80 r=201.193.165.53:55839\n",
            "2023-03-16 01:51:19.306 INFO    pyngrok.process.ngrok: t=2023-03-16T01:51:19+0000 lvl=info msg=\"join connections\" obj=join id=d7b1dc1ac935 l=127.0.0.1:80 r=201.193.165.53:55839\n",
            "INFO:pyngrok.process.ngrok:t=2023-03-16T01:51:25+0000 lvl=info msg=\"join connections\" obj=join id=9d0c062b52e1 l=127.0.0.1:80 r=201.193.165.53:55853\n",
            "2023-03-16 01:51:25.777 INFO    pyngrok.process.ngrok: t=2023-03-16T01:51:25+0000 lvl=info msg=\"join connections\" obj=join id=9d0c062b52e1 l=127.0.0.1:80 r=201.193.165.53:55853\n",
            "INFO:pyngrok.process.ngrok:t=2023-03-16T01:51:25+0000 lvl=info msg=\"join connections\" obj=join id=1120ad8757e3 l=127.0.0.1:80 r=201.193.165.53:55854\n",
            "2023-03-16 01:51:25.782 INFO    pyngrok.process.ngrok: t=2023-03-16T01:51:25+0000 lvl=info msg=\"join connections\" obj=join id=1120ad8757e3 l=127.0.0.1:80 r=201.193.165.53:55854\n",
            "INFO:pyngrok.process.ngrok:t=2023-03-16T01:51:25+0000 lvl=info msg=\"join connections\" obj=join id=5f1a12aec776 l=127.0.0.1:80 r=201.193.165.53:55855\n",
            "2023-03-16 01:51:25.788 INFO    pyngrok.process.ngrok: t=2023-03-16T01:51:25+0000 lvl=info msg=\"join connections\" obj=join id=5f1a12aec776 l=127.0.0.1:80 r=201.193.165.53:55855\n",
            "INFO:pyngrok.process.ngrok:t=2023-03-16T01:51:36+0000 lvl=info msg=\"join connections\" obj=join id=74b214f2b0c7 l=127.0.0.1:80 r=201.193.165.53:55871\n",
            "2023-03-16 01:51:36.207 INFO    pyngrok.process.ngrok: t=2023-03-16T01:51:36+0000 lvl=info msg=\"join connections\" obj=join id=74b214f2b0c7 l=127.0.0.1:80 r=201.193.165.53:55871\n",
            "INFO:pyngrok.process.ngrok:t=2023-03-16T01:51:36+0000 lvl=info msg=\"join connections\" obj=join id=b8ac37609bce l=127.0.0.1:80 r=201.193.165.53:55870\n",
            "2023-03-16 01:51:36.217 INFO    pyngrok.process.ngrok: t=2023-03-16T01:51:36+0000 lvl=info msg=\"join connections\" obj=join id=b8ac37609bce l=127.0.0.1:80 r=201.193.165.53:55870\n",
            "INFO:pyngrok.process.ngrok:t=2023-03-16T01:52:33+0000 lvl=info msg=\"join connections\" obj=join id=3c5672fa7f64 l=127.0.0.1:80 r=201.193.165.53:55906\n",
            "2023-03-16 01:52:33.482 INFO    pyngrok.process.ngrok: t=2023-03-16T01:52:33+0000 lvl=info msg=\"join connections\" obj=join id=3c5672fa7f64 l=127.0.0.1:80 r=201.193.165.53:55906\n",
            "INFO:pyngrok.process.ngrok:t=2023-03-16T01:52:33+0000 lvl=info msg=\"join connections\" obj=join id=4c161c29d84e l=127.0.0.1:80 r=201.193.165.53:55905\n",
            "2023-03-16 01:52:33.490 INFO    pyngrok.process.ngrok: t=2023-03-16T01:52:33+0000 lvl=info msg=\"join connections\" obj=join id=4c161c29d84e l=127.0.0.1:80 r=201.193.165.53:55905\n"
          ]
        }
      ],
      "source": [
        "public_url = ngrok.connect(port = '80')\n",
        "print(public_url)\n",
        "!streamlit run --server.port 80 app.py >/dev/null"
      ]
    },
    {
      "cell_type": "code",
      "execution_count": null,
      "metadata": {
        "id": "KUdAmhJo6vS8"
      },
      "outputs": [],
      "source": [
        "ngrok.kill()"
      ]
    },
    {
      "cell_type": "code",
      "execution_count": 14,
      "metadata": {
        "colab": {
          "base_uri": "https://localhost:8080/"
        },
        "id": "tSnnzzSanzKc",
        "outputId": "9e7e5950-feec-4924-869c-a38d75666504"
      },
      "outputs": [
        {
          "output_type": "stream",
          "name": "stderr",
          "text": [
            "INFO:pyngrok.process.ngrok:t=2023-03-15T22:39:19+0000 lvl=info msg=\"no configuration paths supplied\"\n",
            "2023-03-15 22:39:19.828 INFO    pyngrok.process.ngrok: t=2023-03-15T22:39:19+0000 lvl=info msg=\"no configuration paths supplied\"\n",
            "INFO:pyngrok.process.ngrok:t=2023-03-15T22:39:19+0000 lvl=info msg=\"using configuration at default config path\" path=/root/.ngrok2/ngrok.yml\n",
            "2023-03-15 22:39:19.837 INFO    pyngrok.process.ngrok: t=2023-03-15T22:39:19+0000 lvl=info msg=\"using configuration at default config path\" path=/root/.ngrok2/ngrok.yml\n",
            "INFO:pyngrok.process.ngrok:t=2023-03-15T22:39:19+0000 lvl=info msg=\"open config file\" path=/root/.ngrok2/ngrok.yml err=nil\n",
            "2023-03-15 22:39:19.847 INFO    pyngrok.process.ngrok: t=2023-03-15T22:39:19+0000 lvl=info msg=\"open config file\" path=/root/.ngrok2/ngrok.yml err=nil\n",
            "INFO:pyngrok.process.ngrok:t=2023-03-15T22:39:19+0000 lvl=info msg=\"starting web service\" obj=web addr=127.0.0.1:4040\n",
            "2023-03-15 22:39:19.867 INFO    pyngrok.process.ngrok: t=2023-03-15T22:39:19+0000 lvl=info msg=\"starting web service\" obj=web addr=127.0.0.1:4040\n",
            "INFO:pyngrok.process.ngrok:t=2023-03-15T22:39:19+0000 lvl=info msg=\"tunnel session started\" obj=tunnels.session\n",
            "2023-03-15 22:39:19.959 INFO    pyngrok.process.ngrok: t=2023-03-15T22:39:19+0000 lvl=info msg=\"tunnel session started\" obj=tunnels.session\n",
            "INFO:pyngrok.process.ngrok:t=2023-03-15T22:39:19+0000 lvl=info msg=\"client session established\" obj=csess id=c66df2826aed\n",
            "2023-03-15 22:39:19.965 INFO    pyngrok.process.ngrok: t=2023-03-15T22:39:19+0000 lvl=info msg=\"client session established\" obj=csess id=c66df2826aed\n"
          ]
        },
        {
          "output_type": "execute_result",
          "data": {
            "text/plain": [
              "[]"
            ]
          },
          "metadata": {},
          "execution_count": 14
        },
        {
          "output_type": "stream",
          "name": "stderr",
          "text": [
            "INFO:pyngrok.process.ngrok:t=2023-03-15T22:39:19+0000 lvl=info msg=start pg=/api/tunnels id=ec4059e61f1441d3\n",
            "2023-03-15 22:39:19.988 INFO    pyngrok.process.ngrok: t=2023-03-15T22:39:19+0000 lvl=info msg=start pg=/api/tunnels id=ec4059e61f1441d3\n",
            "INFO:pyngrok.process.ngrok:t=2023-03-15T22:39:19+0000 lvl=info msg=end pg=/api/tunnels id=ec4059e61f1441d3 status=200 dur=467.358µs\n",
            "2023-03-15 22:39:20.000 INFO    pyngrok.process.ngrok: t=2023-03-15T22:39:19+0000 lvl=info msg=end pg=/api/tunnels id=ec4059e61f1441d3 status=200 dur=467.358µs\n",
            "INFO:pyngrok.process.ngrok:t=2023-03-15T22:39:19+0000 lvl=info msg=start pg=/api/tunnels id=fb11e0cbd4fc75f4\n",
            "2023-03-15 22:39:20.007 INFO    pyngrok.process.ngrok: t=2023-03-15T22:39:19+0000 lvl=info msg=start pg=/api/tunnels id=fb11e0cbd4fc75f4\n",
            "INFO:pyngrok.process.ngrok:t=2023-03-15T22:39:19+0000 lvl=info msg=end pg=/api/tunnels id=fb11e0cbd4fc75f4 status=200 dur=114.861µs\n",
            "2023-03-15 22:39:20.044 INFO    pyngrok.process.ngrok: t=2023-03-15T22:39:19+0000 lvl=info msg=end pg=/api/tunnels id=fb11e0cbd4fc75f4 status=200 dur=114.861µs\n",
            "INFO:pyngrok.process.ngrok:t=2023-03-15T22:39:19+0000 lvl=info msg=start pg=/api/tunnels id=61b97be371635377\n",
            "2023-03-15 22:39:20.058 INFO    pyngrok.process.ngrok: t=2023-03-15T22:39:19+0000 lvl=info msg=start pg=/api/tunnels id=61b97be371635377\n",
            "INFO:pyngrok.process.ngrok:t=2023-03-15T22:39:19+0000 lvl=info msg=end pg=/api/tunnels id=61b97be371635377 status=200 dur=98.159µs\n",
            "2023-03-15 22:39:20.089 INFO    pyngrok.process.ngrok: t=2023-03-15T22:39:19+0000 lvl=info msg=end pg=/api/tunnels id=61b97be371635377 status=200 dur=98.159µs\n"
          ]
        }
      ],
      "source": [
        "tunnels = ngrok.get_tunnels()\n",
        "tunnels"
      ]
    },
    {
      "cell_type": "markdown",
      "metadata": {
        "id": "9bxUtlwPpAkk"
      },
      "source": [
        "Oficial V1:"
      ]
    },
    {
      "cell_type": "code",
      "execution_count": 71,
      "metadata": {
        "colab": {
          "base_uri": "https://localhost:8080/"
        },
        "id": "UFy3-2SNOMXW",
        "outputId": "f18e1966-9555-49b2-ceb1-7ff606feba99"
      },
      "outputs": [
        {
          "output_type": "stream",
          "name": "stdout",
          "text": [
            "Overwriting app.py\n"
          ]
        }
      ],
      "source": [
        "%%writefile app.py\n",
        "import streamlit as st\n",
        "import pandas as pd\n",
        "import plotly.express as px\n",
        "import plotly.graph_objects as go\n",
        "import json\n",
        "import os\n",
        "from pyngrok import ngrok\n",
        "import tempfile\n",
        "import re\n",
        "\n",
        "\n",
        "def initialize_and_upload():\n",
        "    uploaded_file = st.sidebar.file_uploader(\"Upload file\", type=\".sav\", accept_multiple_files=False)\n",
        "    if uploaded_file is not None:\n",
        "        with tempfile.TemporaryDirectory() as temp_dir:\n",
        "            temp_file_path = os.path.join(temp_dir, uploaded_file.name)\n",
        "            with open(temp_file_path, \"wb\") as f:\n",
        "                f.write(uploaded_file.getbuffer())\n",
        "            df = pd.read_spss(temp_file_path)\n",
        "            job = {\"name\": \"\", \"tables\": []}\n",
        "            return df, job\n",
        "    else:\n",
        "        return None, None\n",
        "\n",
        "def live_plot(df, job, row_index, col_index_array, chart_type):\n",
        "    data = df.groupby([row_index] + col_index_array).size().reset_index(name='count') ##OJO \n",
        "\n",
        "\n",
        "    if chart_type == 'bar':\n",
        "        chart = px.bar(data, x=row_index, y='count', color=col_index_array[0])\n",
        "    elif chart_type == 'line':\n",
        "        chart = px.line(data, x=row_index, y='count', color=col_index_array[0])\n",
        "    # Add other chart types here\n",
        "\n",
        "\n",
        "    # Update the x-axis tick labels orientation\n",
        "    chart.update_xaxes(tickangle=30)\n",
        "\n",
        "\n",
        "    # Set the title and subtitle\n",
        "    chart.update_layout(title={'text': f\"{job['title']}<br><sub>{job['subtitle']}</sub>\", 'x': 0.5, 'xanchor': 'center'})\n",
        "\n",
        "\n",
        "    return chart\n",
        "\n",
        "\n",
        "\n",
        "\n",
        "\n",
        "def customize_plot(job):\n",
        "    chart_types = ['bar', 'horizontal_bar', 'line', 'area', 'scatter']  # Add more chart types here\n",
        "    chart_type = st.sidebar.selectbox(\"Select chart type:\", options=chart_types)\n",
        "    job[\"chart_type\"] = chart_type\n",
        "\n",
        "    title = st.sidebar.text_input(\"Enter a title for the plot:\")\n",
        "    job[\"title\"] = title\n",
        "\n",
        "    subtitle = st.sidebar.text_input(\"Enter a subtitle for the plot:\")\n",
        "    job[\"subtitle\"] = subtitle\n",
        "\n",
        "    return job\n",
        "\n",
        "\n",
        "\n",
        "\n",
        "def append_WIP_to_job(job, row_index, col_index_array):\n",
        "    ## Append a new table to the job with the provided row and column indices.\n",
        "    job[\"tables\"].append({\"row_index\": row_index, \"col_index_array\": col_index_array, \"filter_params\": []})\n",
        "\n",
        "def save_job(job):\n",
        "    ## Save the job to a JSON file with the provided job name and return True if successful, False otherwise.\n",
        "    job_name = st.text_input(\"Enter a name for the job:\", value=job[\"name\"])\n",
        "    job[\"name\"] = job_name\n",
        "    try:\n",
        "        with open(f\"{job_name}.json\", \"w\") as f:\n",
        "            json.dump(job, f)\n",
        "        return True\n",
        "    except:\n",
        "        return False\n",
        "\n",
        "def main():\n",
        "    st.set_page_config(page_title=\"Crosstab Plotter CID App\", page_icon=\":bar_chart:\")\n",
        "\n",
        "    df, job = initialize_and_upload()\n",
        "\n",
        "    if df is not None:\n",
        "        st.sidebar.write(\"File uploaded successfully!\")\n",
        "        st.write(\"Sample data:\")\n",
        "        st.write(df.head())\n",
        "\n",
        "        if st.button(\"Run job\"):\n",
        "            autmated_plot_gen()\n",
        "\n",
        "        else:\n",
        "            row_index = st.sidebar.selectbox(\"Select categorical column for row index:\", \n",
        "            options=[col for col in df.columns if col.startswith(\"P\") and col != \"POND\"])\n",
        "            col_index_array = []\n",
        "            first_p_col = next((i for i, col in enumerate(df.columns) if re.match('P\\d+', col)), len(df.columns))\n",
        "            pond_col = df.columns.get_loc('POND')\n",
        "            possible_elements = int(first_p_col - pond_col - 1)\n",
        "            num_elements = st.slider(\"Seleccione Niveles:\",\n",
        "                          min_value=1, max_value=possible_elements, value=1)       \n",
        "            options_list = [col for col in df.columns[pond_col+1:first_p_col]]\n",
        "            col_to_be_appended = st.multiselect(\n",
        "              f\"Seleccione Categóricos por Orden de Nivel:\", \n",
        "              options=options_list, \n",
        "               max_selections=num_elements\n",
        "              )\n",
        "            col_index_array = col_to_be_appended\n",
        "            wip = customize_plot(job)\n",
        "            \n",
        "            try:\n",
        "                plot = live_plot(df, wip, row_index, col_index_array, wip[\"chart_type\"])\n",
        "                st.plotly_chart(plot, theme='streamlit')\n",
        "            except Exception as e:\n",
        "                st.write(\"Select arguments\")\n",
        "                \n",
        "            save_png = st.button(\"Save to PNG\")\n",
        "            append_to_job = st.button(\"Append to job?\")\n",
        "            finish_job = st.button(\"Finish job\")\n",
        "            \n",
        "            if save_png:\n",
        "                resolution = st.text_input(\"Enter resolution (e.g. 300dpi):\", value=\"300dpi\")\n",
        "                width = st.slider(\"Select image width (in pixels):\", min_value=100, max_value=2000, value=700)\n",
        "                height = st.slider(\"Select image height (in pixels):\", min_value=100, max_value=2000, value=500)\n",
        "                \n",
        "                # Save the chart as a PNG file using Plotly\n",
        "                img_bytes = plot.to_image(format=\"png\", width=width, height=height, scale=float(resolution.split(\"dpi\")[0])/96.0)\n",
        "                with open(\"chart.png\", \"wb\") as f:\n",
        "                    f.write(img_bytes)\n",
        "                \n",
        "                st.write(\"Plot saved as PNG:\")\n",
        "                st.image(\"chart.png\", width=width)\n",
        "            \n",
        "            if append_to_job:\n",
        "                append_WIP_to_job(job, row_index, col_index_array)\n",
        "\n",
        "            if finish_job:\n",
        "                if save_job(job):\n",
        "                    st.write(\"Job finished successfully!\")\n",
        "                    st.write(\"Generating report...\")\n",
        "                    generate_report(job)\n",
        "                    st.write(\"Report generated successfully!\")\n",
        "                    st.stop()\n",
        "if __name__ == \"__main__\":\n",
        "    main()"
      ]
    },
    {
      "cell_type": "code",
      "source": [
        "def live_plot(df, job, row_index, col_index_array, chart_type):\n",
        "    data = df.groupby([row_index] + col_index_array).size().reset_index(name='count') ##OJO \n",
        "\n",
        "\n",
        "    if chart_type == 'bar':\n",
        "        chart = px.bar(data, x=row_index, y='count', color=col_index_array[0])\n",
        "    elif chart_type == 'line':\n",
        "        chart = px.line(data, x=row_index, y='count', color=col_index_array[0])\n",
        "    # Add other chart types here\n",
        "\n",
        "\n",
        "    # Update the x-axis tick labels orientation\n",
        "    chart.update_xaxes(tickangle=30)\n",
        "\n",
        "\n",
        "    # Set the title and subtitle\n",
        "    chart.update_layout(title={'text': f\"{job['title']}<br><sub>{job['subtitle']}</sub>\", 'x': 0.5, 'xanchor': 'center'})\n",
        "\n",
        "\n",
        "    return chart"
      ],
      "metadata": {
        "id": "7XiFPe3x3upJ"
      },
      "execution_count": null,
      "outputs": []
    },
    {
      "cell_type": "code",
      "execution_count": 21,
      "metadata": {
        "cellView": "form",
        "id": "nYEZs8gbS_VF"
      },
      "outputs": [],
      "source": [
        "#@title Default title text\n",
        "import streamlit as st\n",
        "import pandas as pd\n",
        "import altair as alt\n",
        "import json\n",
        "import argparse\n",
        "\n",
        "\n",
        "def initialize_and_upload():\n",
        "    uploaded_file = st.file_uploader(\"Upload file\", type=\".sav\")\n",
        "    if uploaded_file is not None:\n",
        "        df = pd.read_spss(uploaded_file)\n",
        "        job = {\"name\": \"\", \"tables\": []}\n",
        "        return df, job\n",
        "    else:\n",
        "        return None, None\n",
        "\n",
        "\n",
        "def save_job(job):\n",
        "    name = st.text_input(\"Enter job name:\")\n",
        "    if name != \"\":\n",
        "        with open(os.path.join(\"jobs\", \"jobs.json\"), \"a\") as f:\n",
        "            job[\"name\"] = name\n",
        "            json.dump(job, f)\n",
        "            f.write('\\n')\n",
        "        st.write(\"Job saved successfully!\")\n",
        "        return True\n",
        "    else:\n",
        "        return False\n",
        "\n",
        "\n",
        "def generate_plot(df, job, col_name, num_elements, col_order, altair_args):\n",
        "    col_values = df[col_name].value_counts().index.tolist()\n",
        "    if len(col_values) <= num_elements:\n",
        "        col_array = col_values\n",
        "    else:\n",
        "        col_array = col_values[:num_elements]\n",
        "\n",
        "    table_name = f\"#{col_name}={col_array}\"\n",
        "    job[\"tables\"].append({\"name\": table_name, \"filter_params\": [col_name, num_elements, col_order, altair_args]})\n",
        "    crosstab_df = pd.crosstab(df[col_name], df[col_order])[col_array].T\n",
        "    chart = alt.Chart(crosstab_df).mark_bar().encode(x=alt.X(col_order, sort=None), y=alt.Y(title=col_name, axis=alt.Axis(labelOverlap=True)))\n",
        "    chart = chart.configure_title(fontSize=20).configure_axis(labelFontSize=16, titleFontSize=18)\n",
        "    chart = chart.configure_legend(labelFontSize=16, titleFontSize=18)\n",
        "    chart = eval(altair_args, {\"alt\": alt, \"chart\": chart})\n",
        "    st.altair_chart(chart, use_container_width=True)\n",
        "    st.write(table_name)\n",
        "    st.write(crosstab_df)\n",
        "    return job\n",
        "\n",
        "\n",
        "def main(run_app):\n",
        "    if run_app:\n",
        "        st.set_page_config(page_title=\"Crosstab Plotter App\", page_icon=\":bar_chart:\")\n",
        "\n",
        "        if \"jobs\" not in os.listdir():\n",
        "            os.mkdir(\"jobs\")\n",
        "            with open(os.path.join(\"jobs\", \"jobs.json\"), \"a\") as f:\n",
        "                f.write(\"[]\\n\")\n",
        "\n",
        "        df, job = initialize_and_upload()\n",
        "\n",
        "        if df is not None:\n",
        "            st.write(\"File uploaded successfully!\")\n",
        "            st.write(\"Sample data:\")\n",
        "            st.write(df.head())\n",
        "\n",
        "            if st.button(\"Run job\"):\n",
        "                for table in job[\"tables\"]:\n",
        "                    generate_plot(df, job, *table[\"filter_params\"])\n",
        "\n",
        "            else:\n",
        "                col_name = st.selectbox(\"Select categorical column for row index:\", options=df.columns)\n",
        "                num_elements = st.slider(\"Select number of elements for column array:\", 1, len(df.columns) - df.columns.get_loc(col_name) - 1, 2)\n",
        "                col_order = st.selectbox(\"Select categorical column for column index:\", options=df.columns[df.columns.get_loc(col_name) + 1:])\n",
        "                altair_args = st.text_input(\"Enter Altair chart configuration arguments:\", value='').strip()\n",
        "\n",
        "                job = generate_plot(df, job, col_name, num_elements, col_order, altair_args)\n",
        "\n",
        "                if st.button(\"Generate\"):\n",
        "                    save_job(job)\n",
        "\n",
        "                if st.button(\"Finish job\"):\n",
        "                    if save_job(job):\n",
        "                        st.write(\"Job finished successfully!\")\n",
        "                        st.write(\"Generating report...\")\n",
        "\n",
        "                        html = \"<h1>Job Report</h1>\"\n",
        "                        for table in job[\"tables\"]:\n",
        "                            col_name = table[\"filter_params\"][0]\n",
        "                            col_array = table[\"name\"].split(\"=\")[1][1:-1].split(\", \")\n",
        "                            col_order = table[\"filter_params\"][2]\n",
        "                            altair_args = table[\"filter_params\"][3]\n",
        "\n",
        "                            col_values = df[col_name].value_counts().index.tolist()\n",
        "                            if len(col_values) <= len(col_array):\n",
        "                                col_array = col_values\n",
        "\n",
        "                            crosstab_df = pd.crosstab(df[col_name], df[col_order])[col_array].T\n",
        "                            chart = alt.Chart(crosstab_df).mark_bar().encode(x=alt.X(col_order, sort=None), y=alt.Y(title=col_name, axis=alt.Axis(labelOverlap=True)))\n",
        "                            chart = chart.configure_title(fontSize=20).configure_axis(labelFontSize=16, titleFontSize=18)\n",
        "                            chart = chart.configure_legend(labelFontSize=16, titleFontSize=18)\n",
        "                            chart = eval(altair_args, {\"alt\": alt, \"chart\": chart})\n",
        "                            chart_html = chart.to_html(full_html=False, include_plotlyjs=\"cdn\")\n",
        "                            table_html = crosstab_df.to_html()\n",
        "                            html += f\"<h2>{table['name']}</h2>\"\n",
        "                            html += f\"{chart_html}\"\n",
        "                            html += f\"{table_html}\"\n",
        "\n",
        "                        report_path = os.path.join(\"jobs\", f\"{job['name']}.html\")\n",
        "                        with open(report_path, \"w\") as f:\n",
        "                            f.write(html)\n",
        "\n",
        "                        st.write(\"Report generated successfully!\")\n",
        "                        st.stop()\n",
        "\n",
        "        else:\n",
        "            st.stop()\n"
      ]
    },
    {
      "cell_type": "markdown",
      "source": [
        "# FQC: ZOMPOPA WORK: 03/13/2023\n",
        "\n",
        "*The following consists of the most current efforts around performing a preliminar exploratory data analysis (EDA) with data visualization and data mining methods. The idea is automated the reports generation of a SAV file that contains a dataset.*\n",
        "\n",
        "Install posible packages that might be needed in this enviroment."
      ],
      "metadata": {
        "id": "0fwWv_IPaxWW"
      }
    },
    {
      "cell_type": "code",
      "source": [
        "!pip -q install pyngrok\n",
        "!pip -q install streamlit\n",
        "!pip -q install altair\n",
        "!pip install -q tempfile\n",
        "!pip -q install pyreadstat"
      ],
      "metadata": {
        "colab": {
          "base_uri": "https://localhost:8080/"
        },
        "id": "yI6I3nojlKcs",
        "outputId": "64afa8fd-773d-4f80-bbf3-054c3bb48df3"
      },
      "execution_count": 1,
      "outputs": [
        {
          "output_type": "stream",
          "name": "stdout",
          "text": [
            "\u001b[?25l     \u001b[90m━━━━━━━━━━━━━━━━━━━━━━━━━━━━━━━━━━━━━━━━\u001b[0m \u001b[32m0.0/761.3 KB\u001b[0m \u001b[31m?\u001b[0m eta \u001b[36m-:--:--\u001b[0m\r\u001b[2K     \u001b[91m━━━━━━━━━━━━━━━━━━━━━━━━━━━━━━━━━━━━━\u001b[0m\u001b[91m╸\u001b[0m \u001b[32m757.8/761.3 KB\u001b[0m \u001b[31m51.7 MB/s\u001b[0m eta \u001b[36m0:00:01\u001b[0m\r\u001b[2K     \u001b[90m━━━━━━━━━━━━━━━━━━━━━━━━━━━━━━━━━━━━━━\u001b[0m \u001b[32m761.3/761.3 KB\u001b[0m \u001b[31m19.3 MB/s\u001b[0m eta \u001b[36m0:00:00\u001b[0m\n",
            "\u001b[?25h  Preparing metadata (setup.py) ... \u001b[?25l\u001b[?25hdone\n",
            "  Building wheel for pyngrok (setup.py) ... \u001b[?25l\u001b[?25hdone\n",
            "\u001b[2K     \u001b[90m━━━━━━━━━━━━━━━━━━━━━━━━━━━━━━━━━━━━━━━━\u001b[0m \u001b[32m9.6/9.6 MB\u001b[0m \u001b[31m14.6 MB/s\u001b[0m eta \u001b[36m0:00:00\u001b[0m\n",
            "\u001b[2K     \u001b[90m━━━━━━━━━━━━━━━━━━━━━━━━━━━━━━━━━━━━━━━\u001b[0m \u001b[32m164.8/164.8 KB\u001b[0m \u001b[31m2.7 MB/s\u001b[0m eta \u001b[36m0:00:00\u001b[0m\n",
            "\u001b[2K     \u001b[90m━━━━━━━━━━━━━━━━━━━━━━━━━━━━━━━━━━━━━━━━\u001b[0m \u001b[32m80.6/80.6 KB\u001b[0m \u001b[31m3.5 MB/s\u001b[0m eta \u001b[36m0:00:00\u001b[0m\n",
            "\u001b[?25h  Preparing metadata (setup.py) ... \u001b[?25l\u001b[?25hdone\n",
            "\u001b[2K     \u001b[90m━━━━━━━━━━━━━━━━━━━━━━━━━━━━━━━━━━━━━━━━\u001b[0m \u001b[32m4.7/4.7 MB\u001b[0m \u001b[31m16.1 MB/s\u001b[0m eta \u001b[36m0:00:00\u001b[0m\n",
            "\u001b[2K     \u001b[90m━━━━━━━━━━━━━━━━━━━━━━━━━━━━━━━━━━━━━━━\u001b[0m \u001b[32m238.7/238.7 KB\u001b[0m \u001b[31m6.3 MB/s\u001b[0m eta \u001b[36m0:00:00\u001b[0m\n",
            "\u001b[2K     \u001b[90m━━━━━━━━━━━━━━━━━━━━━━━━━━━━━━━━━━━━━━━\u001b[0m \u001b[32m184.3/184.3 KB\u001b[0m \u001b[31m9.4 MB/s\u001b[0m eta \u001b[36m0:00:00\u001b[0m\n",
            "\u001b[2K     \u001b[90m━━━━━━━━━━━━━━━━━━━━━━━━━━━━━━━━━━━━━━━━\u001b[0m \u001b[32m62.7/62.7 KB\u001b[0m \u001b[31m3.3 MB/s\u001b[0m eta \u001b[36m0:00:00\u001b[0m\n",
            "\u001b[2K     \u001b[90m━━━━━━━━━━━━━━━━━━━━━━━━━━━━━━━━━━━━━━━━\u001b[0m \u001b[32m84.5/84.5 KB\u001b[0m \u001b[31m6.6 MB/s\u001b[0m eta \u001b[36m0:00:00\u001b[0m\n",
            "\u001b[2K     \u001b[90m━━━━━━━━━━━━━━━━━━━━━━━━━━━━━━━━━━━━━━━━\u001b[0m \u001b[32m1.1/1.1 MB\u001b[0m \u001b[31m36.3 MB/s\u001b[0m eta \u001b[36m0:00:00\u001b[0m\n",
            "\u001b[?25h  Building wheel for validators (setup.py) ... \u001b[?25l\u001b[?25hdone\n",
            "\u001b[31mERROR: pip's dependency resolver does not currently take into account all the packages that are installed. This behaviour is the source of the following dependency conflicts.\n",
            "ipython 7.9.0 requires jedi>=0.10, which is not installed.\u001b[0m\u001b[31m\n",
            "\u001b[0m\u001b[31mERROR: Could not find a version that satisfies the requirement tempfile (from versions: none)\u001b[0m\u001b[31m\n",
            "\u001b[0m\u001b[31mERROR: No matching distribution found for tempfile\u001b[0m\u001b[31m\n",
            "\u001b[2K     \u001b[90m━━━━━━━━━━━━━━━━━━━━━━━━━━━━━━━━━━━━━━━━\u001b[0m \u001b[32m2.7/2.7 MB\u001b[0m \u001b[31m43.0 MB/s\u001b[0m eta \u001b[36m0:00:00\u001b[0m\n",
            "\u001b[?25h"
          ]
        }
      ]
    },
    {
      "cell_type": "markdown",
      "source": [
        "Import the necesary libraries."
      ],
      "metadata": {
        "id": "16-hF-D_lQZh"
      }
    },
    {
      "cell_type": "code",
      "source": [
        "import os\n",
        "import sys\n",
        "import json\n",
        "import pandas as pd\n",
        "import matplotlib.pyplot as plt"
      ],
      "metadata": {
        "id": "voMhJ6WPbc4o"
      },
      "execution_count": 2,
      "outputs": []
    },
    {
      "cell_type": "markdown",
      "source": [
        "Load SAV file and obtain a Pandas's dataframe to perform a preliminary exploration."
      ],
      "metadata": {
        "id": "SnPMSaqAlT41"
      }
    },
    {
      "cell_type": "code",
      "source": [
        "temp_file_path = '/content/sample_data/BaseOP.sav'\n",
        "df = pd.read_spss(temp_file_path)"
      ],
      "metadata": {
        "id": "61l2El8jbVqB",
        "colab": {
          "base_uri": "https://localhost:8080/",
          "height": 409
        },
        "outputId": "64afd9e7-3e6d-4c57-c330-5d39ac00d028"
      },
      "execution_count": 4,
      "outputs": [
        {
          "output_type": "error",
          "ename": "PyreadstatError",
          "evalue": "ignored",
          "traceback": [
            "\u001b[0;31m---------------------------------------------------------------------------\u001b[0m",
            "\u001b[0;31mPyreadstatError\u001b[0m                           Traceback (most recent call last)",
            "\u001b[0;32m<ipython-input-4-80c83aa51cc6>\u001b[0m in \u001b[0;36m<module>\u001b[0;34m\u001b[0m\n\u001b[1;32m      1\u001b[0m \u001b[0mtemp_file_path\u001b[0m \u001b[0;34m=\u001b[0m \u001b[0;34m'/content/sample_data/BaseOP.sav'\u001b[0m\u001b[0;34m\u001b[0m\u001b[0;34m\u001b[0m\u001b[0m\n\u001b[0;32m----> 2\u001b[0;31m \u001b[0mdf\u001b[0m \u001b[0;34m=\u001b[0m \u001b[0mpd\u001b[0m\u001b[0;34m.\u001b[0m\u001b[0mread_spss\u001b[0m\u001b[0;34m(\u001b[0m\u001b[0mtemp_file_path\u001b[0m\u001b[0;34m)\u001b[0m\u001b[0;34m\u001b[0m\u001b[0;34m\u001b[0m\u001b[0m\n\u001b[0m",
            "\u001b[0;32m/usr/local/lib/python3.9/dist-packages/pandas/io/spss.py\u001b[0m in \u001b[0;36mread_spss\u001b[0;34m(path, usecols, convert_categoricals)\u001b[0m\n\u001b[1;32m     44\u001b[0m             \u001b[0musecols\u001b[0m \u001b[0;34m=\u001b[0m \u001b[0mlist\u001b[0m\u001b[0;34m(\u001b[0m\u001b[0musecols\u001b[0m\u001b[0;34m)\u001b[0m  \u001b[0;31m# pyreadstat requires a list\u001b[0m\u001b[0;34m\u001b[0m\u001b[0;34m\u001b[0m\u001b[0m\n\u001b[1;32m     45\u001b[0m \u001b[0;34m\u001b[0m\u001b[0m\n\u001b[0;32m---> 46\u001b[0;31m     df, _ = pyreadstat.read_sav(\n\u001b[0m\u001b[1;32m     47\u001b[0m         \u001b[0mstringify_path\u001b[0m\u001b[0;34m(\u001b[0m\u001b[0mpath\u001b[0m\u001b[0;34m)\u001b[0m\u001b[0;34m,\u001b[0m \u001b[0musecols\u001b[0m\u001b[0;34m=\u001b[0m\u001b[0musecols\u001b[0m\u001b[0;34m,\u001b[0m \u001b[0mapply_value_formats\u001b[0m\u001b[0;34m=\u001b[0m\u001b[0mconvert_categoricals\u001b[0m\u001b[0;34m\u001b[0m\u001b[0;34m\u001b[0m\u001b[0m\n\u001b[1;32m     48\u001b[0m     )\n",
            "\u001b[0;32mpyreadstat/pyreadstat.pyx\u001b[0m in \u001b[0;36mpyreadstat.pyreadstat.read_sav\u001b[0;34m()\u001b[0m\n",
            "\u001b[0;32mpyreadstat/_readstat_parser.pyx\u001b[0m in \u001b[0;36mpyreadstat._readstat_parser.run_conversion\u001b[0;34m()\u001b[0m\n",
            "\u001b[0;31mPyreadstatError\u001b[0m: File /content/sample_data/BaseOP.sav does not exist!"
          ]
        }
      ]
    },
    {
      "cell_type": "markdown",
      "source": [
        "View the first N-samples of the dataframe."
      ],
      "metadata": {
        "id": "gH2o_HsClds3"
      }
    },
    {
      "cell_type": "code",
      "source": [
        "N=25\n",
        "df.head(N)"
      ],
      "metadata": {
        "id": "ugCi9xkqcp64"
      },
      "execution_count": null,
      "outputs": []
    },
    {
      "cell_type": "markdown",
      "source": [
        "Visualize the last M-samples of the dataframe."
      ],
      "metadata": {
        "id": "92oXXBZoqNf-"
      }
    },
    {
      "cell_type": "code",
      "source": [
        "M=25\n",
        "df.tail(M)"
      ],
      "metadata": {
        "id": "AanzypjKqRUX"
      },
      "execution_count": null,
      "outputs": []
    },
    {
      "cell_type": "markdown",
      "source": [
        "Explore the dimensions of this dataframe."
      ],
      "metadata": {
        "id": "7MweKbK_lnyx"
      }
    },
    {
      "cell_type": "code",
      "source": [
        "df.shape"
      ],
      "metadata": {
        "colab": {
          "base_uri": "https://localhost:8080/"
        },
        "id": "AhiZy4FslsMM",
        "outputId": "2a4fb34b-7bc6-4868-eee0-72241b2db4d5"
      },
      "execution_count": null,
      "outputs": [
        {
          "output_type": "execute_result",
          "data": {
            "text/plain": [
              "(1200, 139)"
            ]
          },
          "metadata": {},
          "execution_count": 31
        }
      ]
    },
    {
      "cell_type": "markdown",
      "source": [
        "Inspect the nature of this object."
      ],
      "metadata": {
        "id": "k8iNNmpsljkH"
      }
    },
    {
      "cell_type": "code",
      "source": [
        "df.info()"
      ],
      "metadata": {
        "colab": {
          "base_uri": "https://localhost:8080/"
        },
        "id": "1gCaLKw7ksK5",
        "outputId": "a4124a91-7762-42ad-eb6b-2029b7fa0bf8"
      },
      "execution_count": null,
      "outputs": [
        {
          "output_type": "stream",
          "name": "stdout",
          "text": [
            "<class 'pandas.core.frame.DataFrame'>\n",
            "RangeIndex: 1200 entries, 0 to 1199\n",
            "Columns: 139 entries, SbjNum to P81\n",
            "dtypes: category(137), float64(2)\n",
            "memory usage: 210.3 KB\n"
          ]
        }
      ]
    },
    {
      "cell_type": "markdown",
      "source": [
        "Where we notice 1200 observations and 139 descriptors whose 137 are categorical and 2 are floating values."
      ],
      "metadata": {
        "id": "wX49kQBslujI"
      }
    },
    {
      "cell_type": "markdown",
      "source": [
        "## Cross-tabs\n",
        "\n",
        "A cross-tabulation is simple but effective way to inspect relationship between two or more categorical or discrete variables. For instance, we generate a cross-tab that counts the amount of observations that correspond to men and women per location."
      ],
      "metadata": {
        "id": "Jrnz16CtmCc9"
      }
    },
    {
      "cell_type": "code",
      "source": [
        "pd.crosstab(df['sex'], df['f1'])"
      ],
      "metadata": {
        "colab": {
          "base_uri": "https://localhost:8080/",
          "height": 187
        },
        "id": "gUef8LS0c_pX",
        "outputId": "2218bcb4-1c64-4140-d982-62f6f5f12a0b"
      },
      "execution_count": null,
      "outputs": [
        {
          "output_type": "execute_result",
          "data": {
            "text/plain": [
              "f1         Bocas del Toro  Chiriquí  Coclé  Colón  Comarca Guna Yala  \\\n",
              "sex                                                                    \n",
              "Femenino               17        91     37     48                  6   \n",
              "Masculino               9        80     47     39                  3   \n",
              "\n",
              "f1         Comarca Ngäbe Buglé  Darién  Herrera  Los Santos  Panamá  \\\n",
              "sex                                                                   \n",
              "Femenino                    17      16       25          15     221   \n",
              "Masculino                   23      15       22          13     198   \n",
              "\n",
              "f1         Panamá Oeste  Veraguas  \n",
              "sex                                \n",
              "Femenino             94        44  \n",
              "Masculino            76        44  "
            ],
            "text/html": [
              "\n",
              "  <div id=\"df-cf618409-1fb2-4759-9bef-363a3bea30cf\">\n",
              "    <div class=\"colab-df-container\">\n",
              "      <div>\n",
              "<style scoped>\n",
              "    .dataframe tbody tr th:only-of-type {\n",
              "        vertical-align: middle;\n",
              "    }\n",
              "\n",
              "    .dataframe tbody tr th {\n",
              "        vertical-align: top;\n",
              "    }\n",
              "\n",
              "    .dataframe thead th {\n",
              "        text-align: right;\n",
              "    }\n",
              "</style>\n",
              "<table border=\"1\" class=\"dataframe\">\n",
              "  <thead>\n",
              "    <tr style=\"text-align: right;\">\n",
              "      <th>f1</th>\n",
              "      <th>Bocas del Toro</th>\n",
              "      <th>Chiriquí</th>\n",
              "      <th>Coclé</th>\n",
              "      <th>Colón</th>\n",
              "      <th>Comarca Guna Yala</th>\n",
              "      <th>Comarca Ngäbe Buglé</th>\n",
              "      <th>Darién</th>\n",
              "      <th>Herrera</th>\n",
              "      <th>Los Santos</th>\n",
              "      <th>Panamá</th>\n",
              "      <th>Panamá Oeste</th>\n",
              "      <th>Veraguas</th>\n",
              "    </tr>\n",
              "    <tr>\n",
              "      <th>sex</th>\n",
              "      <th></th>\n",
              "      <th></th>\n",
              "      <th></th>\n",
              "      <th></th>\n",
              "      <th></th>\n",
              "      <th></th>\n",
              "      <th></th>\n",
              "      <th></th>\n",
              "      <th></th>\n",
              "      <th></th>\n",
              "      <th></th>\n",
              "      <th></th>\n",
              "    </tr>\n",
              "  </thead>\n",
              "  <tbody>\n",
              "    <tr>\n",
              "      <th>Femenino</th>\n",
              "      <td>17</td>\n",
              "      <td>91</td>\n",
              "      <td>37</td>\n",
              "      <td>48</td>\n",
              "      <td>6</td>\n",
              "      <td>17</td>\n",
              "      <td>16</td>\n",
              "      <td>25</td>\n",
              "      <td>15</td>\n",
              "      <td>221</td>\n",
              "      <td>94</td>\n",
              "      <td>44</td>\n",
              "    </tr>\n",
              "    <tr>\n",
              "      <th>Masculino</th>\n",
              "      <td>9</td>\n",
              "      <td>80</td>\n",
              "      <td>47</td>\n",
              "      <td>39</td>\n",
              "      <td>3</td>\n",
              "      <td>23</td>\n",
              "      <td>15</td>\n",
              "      <td>22</td>\n",
              "      <td>13</td>\n",
              "      <td>198</td>\n",
              "      <td>76</td>\n",
              "      <td>44</td>\n",
              "    </tr>\n",
              "  </tbody>\n",
              "</table>\n",
              "</div>\n",
              "      <button class=\"colab-df-convert\" onclick=\"convertToInteractive('df-cf618409-1fb2-4759-9bef-363a3bea30cf')\"\n",
              "              title=\"Convert this dataframe to an interactive table.\"\n",
              "              style=\"display:none;\">\n",
              "        \n",
              "  <svg xmlns=\"http://www.w3.org/2000/svg\" height=\"24px\"viewBox=\"0 0 24 24\"\n",
              "       width=\"24px\">\n",
              "    <path d=\"M0 0h24v24H0V0z\" fill=\"none\"/>\n",
              "    <path d=\"M18.56 5.44l.94 2.06.94-2.06 2.06-.94-2.06-.94-.94-2.06-.94 2.06-2.06.94zm-11 1L8.5 8.5l.94-2.06 2.06-.94-2.06-.94L8.5 2.5l-.94 2.06-2.06.94zm10 10l.94 2.06.94-2.06 2.06-.94-2.06-.94-.94-2.06-.94 2.06-2.06.94z\"/><path d=\"M17.41 7.96l-1.37-1.37c-.4-.4-.92-.59-1.43-.59-.52 0-1.04.2-1.43.59L10.3 9.45l-7.72 7.72c-.78.78-.78 2.05 0 2.83L4 21.41c.39.39.9.59 1.41.59.51 0 1.02-.2 1.41-.59l7.78-7.78 2.81-2.81c.8-.78.8-2.07 0-2.86zM5.41 20L4 18.59l7.72-7.72 1.47 1.35L5.41 20z\"/>\n",
              "  </svg>\n",
              "      </button>\n",
              "      \n",
              "  <style>\n",
              "    .colab-df-container {\n",
              "      display:flex;\n",
              "      flex-wrap:wrap;\n",
              "      gap: 12px;\n",
              "    }\n",
              "\n",
              "    .colab-df-convert {\n",
              "      background-color: #E8F0FE;\n",
              "      border: none;\n",
              "      border-radius: 50%;\n",
              "      cursor: pointer;\n",
              "      display: none;\n",
              "      fill: #1967D2;\n",
              "      height: 32px;\n",
              "      padding: 0 0 0 0;\n",
              "      width: 32px;\n",
              "    }\n",
              "\n",
              "    .colab-df-convert:hover {\n",
              "      background-color: #E2EBFA;\n",
              "      box-shadow: 0px 1px 2px rgba(60, 64, 67, 0.3), 0px 1px 3px 1px rgba(60, 64, 67, 0.15);\n",
              "      fill: #174EA6;\n",
              "    }\n",
              "\n",
              "    [theme=dark] .colab-df-convert {\n",
              "      background-color: #3B4455;\n",
              "      fill: #D2E3FC;\n",
              "    }\n",
              "\n",
              "    [theme=dark] .colab-df-convert:hover {\n",
              "      background-color: #434B5C;\n",
              "      box-shadow: 0px 1px 3px 1px rgba(0, 0, 0, 0.15);\n",
              "      filter: drop-shadow(0px 1px 2px rgba(0, 0, 0, 0.3));\n",
              "      fill: #FFFFFF;\n",
              "    }\n",
              "  </style>\n",
              "\n",
              "      <script>\n",
              "        const buttonEl =\n",
              "          document.querySelector('#df-cf618409-1fb2-4759-9bef-363a3bea30cf button.colab-df-convert');\n",
              "        buttonEl.style.display =\n",
              "          google.colab.kernel.accessAllowed ? 'block' : 'none';\n",
              "\n",
              "        async function convertToInteractive(key) {\n",
              "          const element = document.querySelector('#df-cf618409-1fb2-4759-9bef-363a3bea30cf');\n",
              "          const dataTable =\n",
              "            await google.colab.kernel.invokeFunction('convertToInteractive',\n",
              "                                                     [key], {});\n",
              "          if (!dataTable) return;\n",
              "\n",
              "          const docLinkHtml = 'Like what you see? Visit the ' +\n",
              "            '<a target=\"_blank\" href=https://colab.research.google.com/notebooks/data_table.ipynb>data table notebook</a>'\n",
              "            + ' to learn more about interactive tables.';\n",
              "          element.innerHTML = '';\n",
              "          dataTable['output_type'] = 'display_data';\n",
              "          await google.colab.output.renderOutput(dataTable, element);\n",
              "          const docLink = document.createElement('div');\n",
              "          docLink.innerHTML = docLinkHtml;\n",
              "          element.appendChild(docLink);\n",
              "        }\n",
              "      </script>\n",
              "    </div>\n",
              "  </div>\n",
              "  "
            ]
          },
          "metadata": {},
          "execution_count": 35
        }
      ]
    },
    {
      "cell_type": "markdown",
      "source": [
        "We can add multiple categorical variables in the rows. In this case, we count the answers for P5 according the sex and the education of the observations."
      ],
      "metadata": {
        "id": "U2vzlbIXpvMX"
      }
    },
    {
      "cell_type": "code",
      "source": [
        "row_index = [df['sex'], df['educa']]\n",
        "col_index = df['P5']\n",
        "val_index = df['POND'] # Numerical descriptor\n",
        "ct = pd.crosstab(index=row_index, columns=col_index, values=val_index,\n",
        "                 rownames=['Sexo', 'Grado educativo'],\n",
        "                 aggfunc='count')"
      ],
      "metadata": {
        "id": "cl6eKwvSk11p",
        "colab": {
          "base_uri": "https://localhost:8080/",
          "height": 235
        },
        "outputId": "a77e7f7b-3c6d-4452-9c4a-f2b5dc234635"
      },
      "execution_count": null,
      "outputs": [
        {
          "output_type": "error",
          "ename": "NameError",
          "evalue": "ignored",
          "traceback": [
            "\u001b[0;31m---------------------------------------------------------------------------\u001b[0m",
            "\u001b[0;31mNameError\u001b[0m                                 Traceback (most recent call last)",
            "\u001b[0;32m<ipython-input-1-573f9960f3f2>\u001b[0m in \u001b[0;36m<module>\u001b[0;34m\u001b[0m\n\u001b[0;32m----> 1\u001b[0;31m \u001b[0mrow_index\u001b[0m \u001b[0;34m=\u001b[0m \u001b[0;34m[\u001b[0m\u001b[0mdf\u001b[0m\u001b[0;34m[\u001b[0m\u001b[0;34m'sex'\u001b[0m\u001b[0;34m]\u001b[0m\u001b[0;34m,\u001b[0m \u001b[0mdf\u001b[0m\u001b[0;34m[\u001b[0m\u001b[0;34m'educa'\u001b[0m\u001b[0;34m]\u001b[0m\u001b[0;34m]\u001b[0m\u001b[0;34m\u001b[0m\u001b[0;34m\u001b[0m\u001b[0m\n\u001b[0m\u001b[1;32m      2\u001b[0m \u001b[0mcol_index\u001b[0m \u001b[0;34m=\u001b[0m \u001b[0mdf\u001b[0m\u001b[0;34m[\u001b[0m\u001b[0;34m'P5'\u001b[0m\u001b[0;34m]\u001b[0m\u001b[0;34m\u001b[0m\u001b[0;34m\u001b[0m\u001b[0m\n\u001b[1;32m      3\u001b[0m \u001b[0mval_index\u001b[0m \u001b[0;34m=\u001b[0m \u001b[0mdf\u001b[0m\u001b[0;34m[\u001b[0m\u001b[0;34m'POND'\u001b[0m\u001b[0;34m]\u001b[0m \u001b[0;31m# Numerical descriptor\u001b[0m\u001b[0;34m\u001b[0m\u001b[0;34m\u001b[0m\u001b[0m\n\u001b[1;32m      4\u001b[0m ct = pd.crosstab(index=row_index, columns=col_index, values=val_index,\n\u001b[1;32m      5\u001b[0m                  \u001b[0mrownames\u001b[0m\u001b[0;34m=\u001b[0m\u001b[0;34m[\u001b[0m\u001b[0;34m'Sexo'\u001b[0m\u001b[0;34m,\u001b[0m \u001b[0;34m'Grado educativo'\u001b[0m\u001b[0;34m]\u001b[0m\u001b[0;34m,\u001b[0m\u001b[0;34m\u001b[0m\u001b[0;34m\u001b[0m\u001b[0m\n",
            "\u001b[0;31mNameError\u001b[0m: name 'df' is not defined"
          ]
        }
      ]
    },
    {
      "cell_type": "code",
      "source": [
        "ct"
      ],
      "metadata": {
        "id": "kdCoVbqLiEQX"
      },
      "execution_count": null,
      "outputs": []
    },
    {
      "cell_type": "markdown",
      "source": [
        "Aggregate the value of numeric variable by categories. For instance, we get the mean value of POND column by sex and education."
      ],
      "metadata": {
        "id": "iJ8WAayfwohU"
      }
    },
    {
      "cell_type": "code",
      "source": [
        "row_index = [df['sex'], df['educa']]\n",
        "col_index = df['P81']\n",
        "val_index = df['POND'] # Numerical descriptor\n",
        "ct = pd.crosstab(index=row_index, columns=col_index, values=val_index,\n",
        "                 rownames=['Sexo', 'Grado educativo'],\n",
        "                 colnames=['Afinidad religiosa'],\n",
        "                 aggfunc='mean')"
      ],
      "metadata": {
        "id": "0_f9iLhsw3bQ"
      },
      "execution_count": null,
      "outputs": []
    },
    {
      "cell_type": "code",
      "source": [
        "ct"
      ],
      "metadata": {
        "colab": {
          "base_uri": "https://localhost:8080/",
          "height": 457
        },
        "id": "2QF6SHPvxJ8x",
        "outputId": "fab607c0-911c-4093-db71-5bd72aa003cc"
      },
      "execution_count": null,
      "outputs": [
        {
          "output_type": "execute_result",
          "data": {
            "text/plain": [
              "Afinidad religiosa               Católico  Evangélico/Protestante  No tiene\n",
              "Sexo      Grado educativo                                                  \n",
              "Femenino  Estudios superiores    0.982658                0.949816  1.109010\n",
              "          Primaria completa      1.051152                1.329294  1.507623\n",
              "          Primaria incompleta    1.745227                1.481556  0.963190\n",
              "          Secundaria completa    0.839274                0.833893  0.767775\n",
              "          Secundaria incompleta  0.834835                0.839663  0.741318\n",
              "          Sin educación          0.963190                1.302868  0.998636\n",
              "Masculino Estudios superiores    1.205725                1.257831  0.979178\n",
              "          Primaria completa      1.228409                1.164182  1.273926\n",
              "          Primaria incompleta    0.830811                1.332372  1.273084\n",
              "          Secundaria completa    0.942907                0.921257  0.936517\n",
              "          Secundaria incompleta  0.937989                0.907036  0.932000\n",
              "          Sin educación               NaN                0.445302  0.607449"
            ],
            "text/html": [
              "\n",
              "  <div id=\"df-7ec5d27b-6eb7-409a-912f-2f6587b13078\">\n",
              "    <div class=\"colab-df-container\">\n",
              "      <div>\n",
              "<style scoped>\n",
              "    .dataframe tbody tr th:only-of-type {\n",
              "        vertical-align: middle;\n",
              "    }\n",
              "\n",
              "    .dataframe tbody tr th {\n",
              "        vertical-align: top;\n",
              "    }\n",
              "\n",
              "    .dataframe thead th {\n",
              "        text-align: right;\n",
              "    }\n",
              "</style>\n",
              "<table border=\"1\" class=\"dataframe\">\n",
              "  <thead>\n",
              "    <tr style=\"text-align: right;\">\n",
              "      <th></th>\n",
              "      <th>Afinidad religiosa</th>\n",
              "      <th>Católico</th>\n",
              "      <th>Evangélico/Protestante</th>\n",
              "      <th>No tiene</th>\n",
              "    </tr>\n",
              "    <tr>\n",
              "      <th>Sexo</th>\n",
              "      <th>Grado educativo</th>\n",
              "      <th></th>\n",
              "      <th></th>\n",
              "      <th></th>\n",
              "    </tr>\n",
              "  </thead>\n",
              "  <tbody>\n",
              "    <tr>\n",
              "      <th rowspan=\"6\" valign=\"top\">Femenino</th>\n",
              "      <th>Estudios superiores</th>\n",
              "      <td>0.982658</td>\n",
              "      <td>0.949816</td>\n",
              "      <td>1.109010</td>\n",
              "    </tr>\n",
              "    <tr>\n",
              "      <th>Primaria completa</th>\n",
              "      <td>1.051152</td>\n",
              "      <td>1.329294</td>\n",
              "      <td>1.507623</td>\n",
              "    </tr>\n",
              "    <tr>\n",
              "      <th>Primaria incompleta</th>\n",
              "      <td>1.745227</td>\n",
              "      <td>1.481556</td>\n",
              "      <td>0.963190</td>\n",
              "    </tr>\n",
              "    <tr>\n",
              "      <th>Secundaria completa</th>\n",
              "      <td>0.839274</td>\n",
              "      <td>0.833893</td>\n",
              "      <td>0.767775</td>\n",
              "    </tr>\n",
              "    <tr>\n",
              "      <th>Secundaria incompleta</th>\n",
              "      <td>0.834835</td>\n",
              "      <td>0.839663</td>\n",
              "      <td>0.741318</td>\n",
              "    </tr>\n",
              "    <tr>\n",
              "      <th>Sin educación</th>\n",
              "      <td>0.963190</td>\n",
              "      <td>1.302868</td>\n",
              "      <td>0.998636</td>\n",
              "    </tr>\n",
              "    <tr>\n",
              "      <th rowspan=\"6\" valign=\"top\">Masculino</th>\n",
              "      <th>Estudios superiores</th>\n",
              "      <td>1.205725</td>\n",
              "      <td>1.257831</td>\n",
              "      <td>0.979178</td>\n",
              "    </tr>\n",
              "    <tr>\n",
              "      <th>Primaria completa</th>\n",
              "      <td>1.228409</td>\n",
              "      <td>1.164182</td>\n",
              "      <td>1.273926</td>\n",
              "    </tr>\n",
              "    <tr>\n",
              "      <th>Primaria incompleta</th>\n",
              "      <td>0.830811</td>\n",
              "      <td>1.332372</td>\n",
              "      <td>1.273084</td>\n",
              "    </tr>\n",
              "    <tr>\n",
              "      <th>Secundaria completa</th>\n",
              "      <td>0.942907</td>\n",
              "      <td>0.921257</td>\n",
              "      <td>0.936517</td>\n",
              "    </tr>\n",
              "    <tr>\n",
              "      <th>Secundaria incompleta</th>\n",
              "      <td>0.937989</td>\n",
              "      <td>0.907036</td>\n",
              "      <td>0.932000</td>\n",
              "    </tr>\n",
              "    <tr>\n",
              "      <th>Sin educación</th>\n",
              "      <td>NaN</td>\n",
              "      <td>0.445302</td>\n",
              "      <td>0.607449</td>\n",
              "    </tr>\n",
              "  </tbody>\n",
              "</table>\n",
              "</div>\n",
              "      <button class=\"colab-df-convert\" onclick=\"convertToInteractive('df-7ec5d27b-6eb7-409a-912f-2f6587b13078')\"\n",
              "              title=\"Convert this dataframe to an interactive table.\"\n",
              "              style=\"display:none;\">\n",
              "        \n",
              "  <svg xmlns=\"http://www.w3.org/2000/svg\" height=\"24px\"viewBox=\"0 0 24 24\"\n",
              "       width=\"24px\">\n",
              "    <path d=\"M0 0h24v24H0V0z\" fill=\"none\"/>\n",
              "    <path d=\"M18.56 5.44l.94 2.06.94-2.06 2.06-.94-2.06-.94-.94-2.06-.94 2.06-2.06.94zm-11 1L8.5 8.5l.94-2.06 2.06-.94-2.06-.94L8.5 2.5l-.94 2.06-2.06.94zm10 10l.94 2.06.94-2.06 2.06-.94-2.06-.94-.94-2.06-.94 2.06-2.06.94z\"/><path d=\"M17.41 7.96l-1.37-1.37c-.4-.4-.92-.59-1.43-.59-.52 0-1.04.2-1.43.59L10.3 9.45l-7.72 7.72c-.78.78-.78 2.05 0 2.83L4 21.41c.39.39.9.59 1.41.59.51 0 1.02-.2 1.41-.59l7.78-7.78 2.81-2.81c.8-.78.8-2.07 0-2.86zM5.41 20L4 18.59l7.72-7.72 1.47 1.35L5.41 20z\"/>\n",
              "  </svg>\n",
              "      </button>\n",
              "      \n",
              "  <style>\n",
              "    .colab-df-container {\n",
              "      display:flex;\n",
              "      flex-wrap:wrap;\n",
              "      gap: 12px;\n",
              "    }\n",
              "\n",
              "    .colab-df-convert {\n",
              "      background-color: #E8F0FE;\n",
              "      border: none;\n",
              "      border-radius: 50%;\n",
              "      cursor: pointer;\n",
              "      display: none;\n",
              "      fill: #1967D2;\n",
              "      height: 32px;\n",
              "      padding: 0 0 0 0;\n",
              "      width: 32px;\n",
              "    }\n",
              "\n",
              "    .colab-df-convert:hover {\n",
              "      background-color: #E2EBFA;\n",
              "      box-shadow: 0px 1px 2px rgba(60, 64, 67, 0.3), 0px 1px 3px 1px rgba(60, 64, 67, 0.15);\n",
              "      fill: #174EA6;\n",
              "    }\n",
              "\n",
              "    [theme=dark] .colab-df-convert {\n",
              "      background-color: #3B4455;\n",
              "      fill: #D2E3FC;\n",
              "    }\n",
              "\n",
              "    [theme=dark] .colab-df-convert:hover {\n",
              "      background-color: #434B5C;\n",
              "      box-shadow: 0px 1px 3px 1px rgba(0, 0, 0, 0.15);\n",
              "      filter: drop-shadow(0px 1px 2px rgba(0, 0, 0, 0.3));\n",
              "      fill: #FFFFFF;\n",
              "    }\n",
              "  </style>\n",
              "\n",
              "      <script>\n",
              "        const buttonEl =\n",
              "          document.querySelector('#df-7ec5d27b-6eb7-409a-912f-2f6587b13078 button.colab-df-convert');\n",
              "        buttonEl.style.display =\n",
              "          google.colab.kernel.accessAllowed ? 'block' : 'none';\n",
              "\n",
              "        async function convertToInteractive(key) {\n",
              "          const element = document.querySelector('#df-7ec5d27b-6eb7-409a-912f-2f6587b13078');\n",
              "          const dataTable =\n",
              "            await google.colab.kernel.invokeFunction('convertToInteractive',\n",
              "                                                     [key], {});\n",
              "          if (!dataTable) return;\n",
              "\n",
              "          const docLinkHtml = 'Like what you see? Visit the ' +\n",
              "            '<a target=\"_blank\" href=https://colab.research.google.com/notebooks/data_table.ipynb>data table notebook</a>'\n",
              "            + ' to learn more about interactive tables.';\n",
              "          element.innerHTML = '';\n",
              "          dataTable['output_type'] = 'display_data';\n",
              "          await google.colab.output.renderOutput(dataTable, element);\n",
              "          const docLink = document.createElement('div');\n",
              "          docLink.innerHTML = docLinkHtml;\n",
              "          element.appendChild(docLink);\n",
              "        }\n",
              "      </script>\n",
              "    </div>\n",
              "  </div>\n",
              "  "
            ]
          },
          "metadata": {},
          "execution_count": 99
        }
      ]
    },
    {
      "cell_type": "markdown",
      "source": [
        "Recreate the first crosstab using a pivot table."
      ],
      "metadata": {
        "id": "W93j9rtm036C"
      }
    },
    {
      "cell_type": "code",
      "source": [
        "pt = df.pivot_table('POND', 'sex', 'f1', aggfunc='count')"
      ],
      "metadata": {
        "id": "ZW1GejOi09gE"
      },
      "execution_count": null,
      "outputs": []
    },
    {
      "cell_type": "markdown",
      "source": [
        "Display the respective pivot table."
      ],
      "metadata": {
        "id": "IKPxPz_e3Rwb"
      }
    },
    {
      "cell_type": "code",
      "source": [
        "pt"
      ],
      "metadata": {
        "id": "7S6WBorM3P7y",
        "outputId": "6e00a7a8-8dc8-4dfa-8137-0079b28cbede",
        "colab": {
          "base_uri": "https://localhost:8080/",
          "height": 187
        }
      },
      "execution_count": null,
      "outputs": [
        {
          "output_type": "execute_result",
          "data": {
            "text/plain": [
              "f1         Bocas del Toro  Chiriquí  Coclé  Colón  Comarca Guna Yala  \\\n",
              "sex                                                                    \n",
              "Femenino               17        91     37     48                  6   \n",
              "Masculino               9        80     47     39                  3   \n",
              "\n",
              "f1         Comarca Ngäbe Buglé  Darién  Herrera  Los Santos  Panamá  \\\n",
              "sex                                                                   \n",
              "Femenino                    17      16       25          15     221   \n",
              "Masculino                   23      15       22          13     198   \n",
              "\n",
              "f1         Panamá Oeste  Veraguas  \n",
              "sex                                \n",
              "Femenino             94        44  \n",
              "Masculino            76        44  "
            ],
            "text/html": [
              "\n",
              "  <div id=\"df-ffd086c9-1fb1-4f48-ba21-9d81700814a5\">\n",
              "    <div class=\"colab-df-container\">\n",
              "      <div>\n",
              "<style scoped>\n",
              "    .dataframe tbody tr th:only-of-type {\n",
              "        vertical-align: middle;\n",
              "    }\n",
              "\n",
              "    .dataframe tbody tr th {\n",
              "        vertical-align: top;\n",
              "    }\n",
              "\n",
              "    .dataframe thead th {\n",
              "        text-align: right;\n",
              "    }\n",
              "</style>\n",
              "<table border=\"1\" class=\"dataframe\">\n",
              "  <thead>\n",
              "    <tr style=\"text-align: right;\">\n",
              "      <th>f1</th>\n",
              "      <th>Bocas del Toro</th>\n",
              "      <th>Chiriquí</th>\n",
              "      <th>Coclé</th>\n",
              "      <th>Colón</th>\n",
              "      <th>Comarca Guna Yala</th>\n",
              "      <th>Comarca Ngäbe Buglé</th>\n",
              "      <th>Darién</th>\n",
              "      <th>Herrera</th>\n",
              "      <th>Los Santos</th>\n",
              "      <th>Panamá</th>\n",
              "      <th>Panamá Oeste</th>\n",
              "      <th>Veraguas</th>\n",
              "    </tr>\n",
              "    <tr>\n",
              "      <th>sex</th>\n",
              "      <th></th>\n",
              "      <th></th>\n",
              "      <th></th>\n",
              "      <th></th>\n",
              "      <th></th>\n",
              "      <th></th>\n",
              "      <th></th>\n",
              "      <th></th>\n",
              "      <th></th>\n",
              "      <th></th>\n",
              "      <th></th>\n",
              "      <th></th>\n",
              "    </tr>\n",
              "  </thead>\n",
              "  <tbody>\n",
              "    <tr>\n",
              "      <th>Femenino</th>\n",
              "      <td>17</td>\n",
              "      <td>91</td>\n",
              "      <td>37</td>\n",
              "      <td>48</td>\n",
              "      <td>6</td>\n",
              "      <td>17</td>\n",
              "      <td>16</td>\n",
              "      <td>25</td>\n",
              "      <td>15</td>\n",
              "      <td>221</td>\n",
              "      <td>94</td>\n",
              "      <td>44</td>\n",
              "    </tr>\n",
              "    <tr>\n",
              "      <th>Masculino</th>\n",
              "      <td>9</td>\n",
              "      <td>80</td>\n",
              "      <td>47</td>\n",
              "      <td>39</td>\n",
              "      <td>3</td>\n",
              "      <td>23</td>\n",
              "      <td>15</td>\n",
              "      <td>22</td>\n",
              "      <td>13</td>\n",
              "      <td>198</td>\n",
              "      <td>76</td>\n",
              "      <td>44</td>\n",
              "    </tr>\n",
              "  </tbody>\n",
              "</table>\n",
              "</div>\n",
              "      <button class=\"colab-df-convert\" onclick=\"convertToInteractive('df-ffd086c9-1fb1-4f48-ba21-9d81700814a5')\"\n",
              "              title=\"Convert this dataframe to an interactive table.\"\n",
              "              style=\"display:none;\">\n",
              "        \n",
              "  <svg xmlns=\"http://www.w3.org/2000/svg\" height=\"24px\"viewBox=\"0 0 24 24\"\n",
              "       width=\"24px\">\n",
              "    <path d=\"M0 0h24v24H0V0z\" fill=\"none\"/>\n",
              "    <path d=\"M18.56 5.44l.94 2.06.94-2.06 2.06-.94-2.06-.94-.94-2.06-.94 2.06-2.06.94zm-11 1L8.5 8.5l.94-2.06 2.06-.94-2.06-.94L8.5 2.5l-.94 2.06-2.06.94zm10 10l.94 2.06.94-2.06 2.06-.94-2.06-.94-.94-2.06-.94 2.06-2.06.94z\"/><path d=\"M17.41 7.96l-1.37-1.37c-.4-.4-.92-.59-1.43-.59-.52 0-1.04.2-1.43.59L10.3 9.45l-7.72 7.72c-.78.78-.78 2.05 0 2.83L4 21.41c.39.39.9.59 1.41.59.51 0 1.02-.2 1.41-.59l7.78-7.78 2.81-2.81c.8-.78.8-2.07 0-2.86zM5.41 20L4 18.59l7.72-7.72 1.47 1.35L5.41 20z\"/>\n",
              "  </svg>\n",
              "      </button>\n",
              "      \n",
              "  <style>\n",
              "    .colab-df-container {\n",
              "      display:flex;\n",
              "      flex-wrap:wrap;\n",
              "      gap: 12px;\n",
              "    }\n",
              "\n",
              "    .colab-df-convert {\n",
              "      background-color: #E8F0FE;\n",
              "      border: none;\n",
              "      border-radius: 50%;\n",
              "      cursor: pointer;\n",
              "      display: none;\n",
              "      fill: #1967D2;\n",
              "      height: 32px;\n",
              "      padding: 0 0 0 0;\n",
              "      width: 32px;\n",
              "    }\n",
              "\n",
              "    .colab-df-convert:hover {\n",
              "      background-color: #E2EBFA;\n",
              "      box-shadow: 0px 1px 2px rgba(60, 64, 67, 0.3), 0px 1px 3px 1px rgba(60, 64, 67, 0.15);\n",
              "      fill: #174EA6;\n",
              "    }\n",
              "\n",
              "    [theme=dark] .colab-df-convert {\n",
              "      background-color: #3B4455;\n",
              "      fill: #D2E3FC;\n",
              "    }\n",
              "\n",
              "    [theme=dark] .colab-df-convert:hover {\n",
              "      background-color: #434B5C;\n",
              "      box-shadow: 0px 1px 3px 1px rgba(0, 0, 0, 0.15);\n",
              "      filter: drop-shadow(0px 1px 2px rgba(0, 0, 0, 0.3));\n",
              "      fill: #FFFFFF;\n",
              "    }\n",
              "  </style>\n",
              "\n",
              "      <script>\n",
              "        const buttonEl =\n",
              "          document.querySelector('#df-ffd086c9-1fb1-4f48-ba21-9d81700814a5 button.colab-df-convert');\n",
              "        buttonEl.style.display =\n",
              "          google.colab.kernel.accessAllowed ? 'block' : 'none';\n",
              "\n",
              "        async function convertToInteractive(key) {\n",
              "          const element = document.querySelector('#df-ffd086c9-1fb1-4f48-ba21-9d81700814a5');\n",
              "          const dataTable =\n",
              "            await google.colab.kernel.invokeFunction('convertToInteractive',\n",
              "                                                     [key], {});\n",
              "          if (!dataTable) return;\n",
              "\n",
              "          const docLinkHtml = 'Like what you see? Visit the ' +\n",
              "            '<a target=\"_blank\" href=https://colab.research.google.com/notebooks/data_table.ipynb>data table notebook</a>'\n",
              "            + ' to learn more about interactive tables.';\n",
              "          element.innerHTML = '';\n",
              "          dataTable['output_type'] = 'display_data';\n",
              "          await google.colab.output.renderOutput(dataTable, element);\n",
              "          const docLink = document.createElement('div');\n",
              "          docLink.innerHTML = docLinkHtml;\n",
              "          element.appendChild(docLink);\n",
              "        }\n",
              "      </script>\n",
              "    </div>\n",
              "  </div>\n",
              "  "
            ]
          },
          "metadata": {},
          "execution_count": 94
        }
      ]
    },
    {
      "cell_type": "markdown",
      "source": [
        "Plot the bar chart of the last pivot table."
      ],
      "metadata": {
        "id": "6A87WC7u2jDY"
      }
    },
    {
      "cell_type": "code",
      "source": [
        "pl = pt.plot(kind='bar', stacked=True, rot=0)\n",
        "pl.legend(title='Lugar', bbox_to_anchor=(1, 1.02),\n",
        "         loc='upper left')"
      ],
      "metadata": {
        "id": "MwFRqwox2vBj",
        "outputId": "8e94fd44-2a0f-4e09-f63d-0eac433483c6",
        "colab": {
          "base_uri": "https://localhost:8080/",
          "height": 296
        }
      },
      "execution_count": null,
      "outputs": [
        {
          "output_type": "execute_result",
          "data": {
            "text/plain": [
              "<matplotlib.legend.Legend at 0x7feddd40bb50>"
            ]
          },
          "metadata": {},
          "execution_count": 101
        },
        {
          "output_type": "display_data",
          "data": {
            "text/plain": [
              "<Figure size 432x288 with 1 Axes>"
            ],
            "image/png": "[encoded data removed]"
          },
          "metadata": {
            "needs_background": "light"
          }
        }
      ]
    },
    {
      "cell_type": "markdown",
      "source": [
        "Create a bar plot using more than two variables from crosstab with POND values, considering matplotlib."
      ],
      "metadata": {
        "id": "Ao1nIdn73nvn"
      }
    },
    {
      "cell_type": "code",
      "source": [
        "ax = ct.plot(kind='bar', rot=0)\n",
        "plt.setp(ax.get_xticklabels(), rotation=30, horizontalalignment='right', fontsize='x-small')\n",
        "ax.legend(title='Religión', bbox_to_anchor=(1, 1.02),\n",
        "         loc='upper left')"
      ],
      "metadata": {
        "id": "2sYqHCiO3nSG",
        "outputId": "c2f44508-3094-462a-fd4d-4fad745d4202",
        "colab": {
          "base_uri": "https://localhost:8080/",
          "height": 355
        }
      },
      "execution_count": null,
      "outputs": [
        {
          "output_type": "execute_result",
          "data": {
            "text/plain": [
              "<matplotlib.legend.Legend at 0x7feddc7b43a0>"
            ]
          },
          "metadata": {},
          "execution_count": 109
        },
        {
          "output_type": "display_data",
          "data": {
            "text/plain": [
              "<Figure size 432x288 with 1 Axes>"
            ],
            "image/png": "[encoded data removed]"
          },
          "metadata": {
            "needs_background": "light"
          }
        }
      ]
    }
  ],
  "metadata": {
    "colab": {
      "provenance": [],
      "include_colab_link": true
    },
    "kernelspec": {
      "display_name": "Python 3",
      "name": "python3"
    },
    "language_info": {
      "name": "python"
    }
  },
  "nbformat": 4,
  "nbformat_minor": 0
}